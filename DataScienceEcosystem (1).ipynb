{
 "cells": [
  {
   "cell_type": "markdown",
   "id": "7bb3225c-5621-4c0a-a73c-d1270c7e9729",
   "metadata": {},
   "source": [
    "# Data Science Tools and Ecosystem"
   ]
  },
  {
   "cell_type": "markdown",
   "id": "c699cb61-e553-4ee2-8dca-302ce32d8ef1",
   "metadata": {},
   "source": [
    "## In this notebook, Data Science Tools and Ecosystem are summarized."
   ]
  },
  {
   "cell_type": "markdown",
   "id": "2b35ac8a-7727-40a3-bd95-b50815c96546",
   "metadata": {},
   "source": [
    "**Objectives:**\n",
    "- List popular languages for Data Science\n",
    "- List commonly used libraries for Data Science\n",
    "- Use markdowns\n",
    "- Create tables as markdowns \n"
   ]
  },
  {
   "cell_type": "markdown",
   "id": "5f3fbc84-2c89-462f-a22a-a83592cc8b9e",
   "metadata": {},
   "source": [
    "### Some of the popular languages that Data Scientists use are:\n",
    "1. R\n",
    "2. SQL \n",
    "3. Python "
   ]
  },
  {
   "cell_type": "markdown",
   "id": "6f29f802-0904-41f7-bbfd-16c6b38cbd5e",
   "metadata": {},
   "source": [
    "### Some of the commonly used libraries used by Data Scientists include:\n",
    "1. ggplot\n",
    "2. NumPy\n",
    "3. Pandas\n",
    "4. Scikit-learn"
   ]
  },
  {
   "cell_type": "markdown",
   "id": "0fbda86d-cb28-4393-bc0a-9e77ba47e34f",
   "metadata": {},
   "source": [
    "| Data Science Tools |\n",
    "|---|\n",
    "| RStudio|\n",
    "| VS Code |\n",
    "| Spyder |"
   ]
  },
  {
   "cell_type": "markdown",
   "id": "23cdc722-5951-4419-8aee-ce82008ae02d",
   "metadata": {},
   "source": [
    "### Below are a few examples of evaluating arithmetic expressions in Python"
   ]
  },
  {
   "cell_type": "markdown",
   "id": "0a2ff205-3d0f-453f-9731-3b57d6506bfd",
   "metadata": {},
   "source": [
    "This a simple arithmetic expression to mutiply then add integers"
   ]
  },
  {
   "cell_type": "code",
   "execution_count": 2,
   "id": "5a7436a7-40bc-46a4-b33a-cf878c4ddfce",
   "metadata": {},
   "outputs": [
    {
     "data": {
      "text/plain": [
       "17"
      ]
     },
     "execution_count": 2,
     "metadata": {},
     "output_type": "execute_result"
    }
   ],
   "source": [
    "(3*4)+5"
   ]
  },
  {
   "cell_type": "code",
   "execution_count": null,
   "id": "1cc2f11a-cbe6-4765-9dbc-db116958363c",
   "metadata": {},
   "outputs": [],
   "source": [
    "This will convert 200 minutes to hours by diving by 60"
   ]
  },
  {
   "cell_type": "code",
   "execution_count": 3,
   "id": "c04ab51b-207d-4f51-9a92-6d8abf9a3426",
   "metadata": {},
   "outputs": [
    {
     "data": {
      "text/plain": [
       "3.3333333333333335"
      ]
     },
     "execution_count": 3,
     "metadata": {},
     "output_type": "execute_result"
    }
   ],
   "source": [
    "200/60"
   ]
  },
  {
   "cell_type": "markdown",
   "id": "2ad8f7a0-3dc4-4c4d-bed7-826142966712",
   "metadata": {},
   "source": [
    "## Author \n",
    "Luis Rodriguez Piedra"
   ]
  }
 ],
 "metadata": {
  "kernelspec": {
   "display_name": "Python 3 (ipykernel)",
   "language": "python",
   "name": "python3"
  },
  "language_info": {
   "codemirror_mode": {
    "name": "ipython",
    "version": 3
   },
   "file_extension": ".py",
   "mimetype": "text/x-python",
   "name": "python",
   "nbconvert_exporter": "python",
   "pygments_lexer": "ipython3",
   "version": "3.11.7"
  }
 },
 "nbformat": 4,
 "nbformat_minor": 5
}
